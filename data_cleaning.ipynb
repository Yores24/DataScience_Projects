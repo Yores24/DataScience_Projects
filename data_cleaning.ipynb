{
 "cells": [
  {
   "cell_type": "code",
   "execution_count": 1,
   "metadata": {},
   "outputs": [],
   "source": [
    "import pandas as pd"
   ]
  },
  {
   "cell_type": "code",
   "execution_count": 2,
   "metadata": {},
   "outputs": [],
   "source": [
    "df=pd.read_csv('glassdoor_jobs.csv')"
   ]
  },
  {
   "cell_type": "code",
   "execution_count": 3,
   "metadata": {},
   "outputs": [
    {
     "data": {
      "text/html": [
       "<div>\n",
       "<style scoped>\n",
       "    .dataframe tbody tr th:only-of-type {\n",
       "        vertical-align: middle;\n",
       "    }\n",
       "\n",
       "    .dataframe tbody tr th {\n",
       "        vertical-align: top;\n",
       "    }\n",
       "\n",
       "    .dataframe thead th {\n",
       "        text-align: right;\n",
       "    }\n",
       "</style>\n",
       "<table border=\"1\" class=\"dataframe\">\n",
       "  <thead>\n",
       "    <tr style=\"text-align: right;\">\n",
       "      <th></th>\n",
       "      <th>Unnamed: 0</th>\n",
       "      <th>Job Title</th>\n",
       "      <th>Salary Estimate</th>\n",
       "      <th>Job Description</th>\n",
       "      <th>Rating</th>\n",
       "      <th>Company Name</th>\n",
       "      <th>Location</th>\n",
       "      <th>Headquarters</th>\n",
       "      <th>Size</th>\n",
       "      <th>Founded</th>\n",
       "      <th>Type of ownership</th>\n",
       "      <th>Industry</th>\n",
       "      <th>Sector</th>\n",
       "      <th>Revenue</th>\n",
       "      <th>Competitors</th>\n",
       "    </tr>\n",
       "  </thead>\n",
       "  <tbody>\n",
       "    <tr>\n",
       "      <th>0</th>\n",
       "      <td>0</td>\n",
       "      <td>Data Scientist</td>\n",
       "      <td>$53K-$91K (Glassdoor est.)</td>\n",
       "      <td>Data Scientist\\nLocation: Albuquerque, NM\\nEdu...</td>\n",
       "      <td>3.8</td>\n",
       "      <td>Tecolote Research\\n3.8</td>\n",
       "      <td>Albuquerque, NM</td>\n",
       "      <td>Goleta, CA</td>\n",
       "      <td>501 to 1000 employees</td>\n",
       "      <td>1973</td>\n",
       "      <td>Company - Private</td>\n",
       "      <td>Aerospace &amp; Defense</td>\n",
       "      <td>Aerospace &amp; Defense</td>\n",
       "      <td>$50 to $100 million (USD)</td>\n",
       "      <td>-1</td>\n",
       "    </tr>\n",
       "    <tr>\n",
       "      <th>1</th>\n",
       "      <td>1</td>\n",
       "      <td>Healthcare Data Scientist</td>\n",
       "      <td>$63K-$112K (Glassdoor est.)</td>\n",
       "      <td>What You Will Do:\\n\\nI. General Summary\\n\\nThe...</td>\n",
       "      <td>3.4</td>\n",
       "      <td>University of Maryland Medical System\\n3.4</td>\n",
       "      <td>Linthicum, MD</td>\n",
       "      <td>Baltimore, MD</td>\n",
       "      <td>10000+ employees</td>\n",
       "      <td>1984</td>\n",
       "      <td>Other Organization</td>\n",
       "      <td>Health Care Services &amp; Hospitals</td>\n",
       "      <td>Health Care</td>\n",
       "      <td>$2 to $5 billion (USD)</td>\n",
       "      <td>-1</td>\n",
       "    </tr>\n",
       "    <tr>\n",
       "      <th>2</th>\n",
       "      <td>2</td>\n",
       "      <td>Data Scientist</td>\n",
       "      <td>$80K-$90K (Glassdoor est.)</td>\n",
       "      <td>KnowBe4, Inc. is a high growth information sec...</td>\n",
       "      <td>4.8</td>\n",
       "      <td>KnowBe4\\n4.8</td>\n",
       "      <td>Clearwater, FL</td>\n",
       "      <td>Clearwater, FL</td>\n",
       "      <td>501 to 1000 employees</td>\n",
       "      <td>2010</td>\n",
       "      <td>Company - Private</td>\n",
       "      <td>Security Services</td>\n",
       "      <td>Business Services</td>\n",
       "      <td>$100 to $500 million (USD)</td>\n",
       "      <td>-1</td>\n",
       "    </tr>\n",
       "    <tr>\n",
       "      <th>3</th>\n",
       "      <td>3</td>\n",
       "      <td>Data Scientist</td>\n",
       "      <td>$56K-$97K (Glassdoor est.)</td>\n",
       "      <td>*Organization and Job ID**\\nJob ID: 310709\\n\\n...</td>\n",
       "      <td>3.8</td>\n",
       "      <td>PNNL\\n3.8</td>\n",
       "      <td>Richland, WA</td>\n",
       "      <td>Richland, WA</td>\n",
       "      <td>1001 to 5000 employees</td>\n",
       "      <td>1965</td>\n",
       "      <td>Government</td>\n",
       "      <td>Energy</td>\n",
       "      <td>Oil, Gas, Energy &amp; Utilities</td>\n",
       "      <td>$500 million to $1 billion (USD)</td>\n",
       "      <td>Oak Ridge National Laboratory, National Renewa...</td>\n",
       "    </tr>\n",
       "    <tr>\n",
       "      <th>4</th>\n",
       "      <td>4</td>\n",
       "      <td>Data Scientist</td>\n",
       "      <td>$86K-$143K (Glassdoor est.)</td>\n",
       "      <td>Data Scientist\\nAffinity Solutions / Marketing...</td>\n",
       "      <td>2.9</td>\n",
       "      <td>Affinity Solutions\\n2.9</td>\n",
       "      <td>New York, NY</td>\n",
       "      <td>New York, NY</td>\n",
       "      <td>51 to 200 employees</td>\n",
       "      <td>1998</td>\n",
       "      <td>Company - Private</td>\n",
       "      <td>Advertising &amp; Marketing</td>\n",
       "      <td>Business Services</td>\n",
       "      <td>Unknown / Non-Applicable</td>\n",
       "      <td>Commerce Signals, Cardlytics, Yodlee</td>\n",
       "    </tr>\n",
       "  </tbody>\n",
       "</table>\n",
       "</div>"
      ],
      "text/plain": [
       "   Unnamed: 0                  Job Title              Salary Estimate  \\\n",
       "0           0             Data Scientist   $53K-$91K (Glassdoor est.)   \n",
       "1           1  Healthcare Data Scientist  $63K-$112K (Glassdoor est.)   \n",
       "2           2             Data Scientist   $80K-$90K (Glassdoor est.)   \n",
       "3           3             Data Scientist   $56K-$97K (Glassdoor est.)   \n",
       "4           4             Data Scientist  $86K-$143K (Glassdoor est.)   \n",
       "\n",
       "                                     Job Description  Rating  \\\n",
       "0  Data Scientist\\nLocation: Albuquerque, NM\\nEdu...     3.8   \n",
       "1  What You Will Do:\\n\\nI. General Summary\\n\\nThe...     3.4   \n",
       "2  KnowBe4, Inc. is a high growth information sec...     4.8   \n",
       "3  *Organization and Job ID**\\nJob ID: 310709\\n\\n...     3.8   \n",
       "4  Data Scientist\\nAffinity Solutions / Marketing...     2.9   \n",
       "\n",
       "                                 Company Name         Location  \\\n",
       "0                      Tecolote Research\\n3.8  Albuquerque, NM   \n",
       "1  University of Maryland Medical System\\n3.4    Linthicum, MD   \n",
       "2                                KnowBe4\\n4.8   Clearwater, FL   \n",
       "3                                   PNNL\\n3.8     Richland, WA   \n",
       "4                     Affinity Solutions\\n2.9     New York, NY   \n",
       "\n",
       "     Headquarters                    Size  Founded   Type of ownership  \\\n",
       "0      Goleta, CA   501 to 1000 employees     1973   Company - Private   \n",
       "1   Baltimore, MD        10000+ employees     1984  Other Organization   \n",
       "2  Clearwater, FL   501 to 1000 employees     2010   Company - Private   \n",
       "3    Richland, WA  1001 to 5000 employees     1965          Government   \n",
       "4    New York, NY     51 to 200 employees     1998   Company - Private   \n",
       "\n",
       "                           Industry                        Sector  \\\n",
       "0               Aerospace & Defense           Aerospace & Defense   \n",
       "1  Health Care Services & Hospitals                   Health Care   \n",
       "2                 Security Services             Business Services   \n",
       "3                            Energy  Oil, Gas, Energy & Utilities   \n",
       "4           Advertising & Marketing             Business Services   \n",
       "\n",
       "                            Revenue  \\\n",
       "0         $50 to $100 million (USD)   \n",
       "1            $2 to $5 billion (USD)   \n",
       "2        $100 to $500 million (USD)   \n",
       "3  $500 million to $1 billion (USD)   \n",
       "4          Unknown / Non-Applicable   \n",
       "\n",
       "                                         Competitors  \n",
       "0                                                 -1  \n",
       "1                                                 -1  \n",
       "2                                                 -1  \n",
       "3  Oak Ridge National Laboratory, National Renewa...  \n",
       "4               Commerce Signals, Cardlytics, Yodlee  "
      ]
     },
     "execution_count": 3,
     "metadata": {},
     "output_type": "execute_result"
    }
   ],
   "source": [
    "df.head()"
   ]
  },
  {
   "cell_type": "code",
   "execution_count": 4,
   "metadata": {},
   "outputs": [],
   "source": [
    "# Salary parsing\n",
    "# Company name text only\n",
    "# State Field\n",
    "# Age of company\n",
    "# Parsing of job desc(python etc)"
   ]
  },
  {
   "cell_type": "markdown",
   "metadata": {},
   "source": [
    "Removing all the rows with salary estimate as -1"
   ]
  },
  {
   "cell_type": "code",
   "execution_count": 6,
   "metadata": {},
   "outputs": [],
   "source": [
    "df=df[df['Salary Estimate']!='-1']"
   ]
  },
  {
   "cell_type": "code",
   "execution_count": 14,
   "metadata": {},
   "outputs": [],
   "source": [
    "df_copy=df.copy()"
   ]
  },
  {
   "cell_type": "code",
   "execution_count": 16,
   "metadata": {},
   "outputs": [],
   "source": [
    "df['Salary Estimate']=df['Salary Estimate'].apply(lambda x: x.split()[0])"
   ]
  },
  {
   "cell_type": "code",
   "execution_count": 42,
   "metadata": {},
   "outputs": [],
   "source": [
    "# Removing k and $\n",
    "df['Salary Estimate']=df['Salary Estimate'].apply(lambda x: x.replace('K','').replace('$',''))"
   ]
  },
  {
   "cell_type": "code",
   "execution_count": 25,
   "metadata": {},
   "outputs": [],
   "source": [
    "df_copy['Hour']=df_copy['Salary Estimate'].apply(lambda x: 1 if 'per hour' in x.lower() else 0)"
   ]
  },
  {
   "cell_type": "code",
   "execution_count": 30,
   "metadata": {},
   "outputs": [],
   "source": [
    "df['Hour']=df_copy['Hour']"
   ]
  },
  {
   "cell_type": "code",
   "execution_count": 31,
   "metadata": {},
   "outputs": [],
   "source": [
    "df['Employer_provided']=df_copy['Salary Estimate'].apply(lambda x: 1 if 'employer provided salary:' in x.lower() else 0)"
   ]
  },
  {
   "cell_type": "code",
   "execution_count": 38,
   "metadata": {},
   "outputs": [],
   "source": [
    "for i in range (0,len(df)):\n",
    "    if(df['Employer_provided'].iloc[i]==1):\n",
    "        df['Salary Estimate'].iloc[i].replace(df['Salary Estimate'].iloc[i],df_copy['Salary Estimate'].iloc[i])\n",
    "    else:\n",
    "        continue"
   ]
  },
  {
   "cell_type": "code",
   "execution_count": 41,
   "metadata": {},
   "outputs": [],
   "source": [
    "df['Salary Estimate']=df['Salary Estimate'].apply(lambda x: x.replace('(Employer','').replace('Employer Provided Salary:','').replace('Per Hour',''))"
   ]
  },
  {
   "cell_type": "code",
   "execution_count": 43,
   "metadata": {},
   "outputs": [],
   "source": [
    "# Removing k and $\n",
    "df['Salary Estimate']=df['Salary Estimate'].apply(lambda x: x.replace('K','').replace('$',''))"
   ]
  },
  {
   "cell_type": "code",
   "execution_count": 44,
   "metadata": {},
   "outputs": [
    {
     "data": {
      "text/plain": [
       "array(['53-91', '63-112', '80-90', '56-97', '86-143', '71-119', '54-93',\n",
       "       '86-142', '38-84', '120-160', '126-201', '64-106', '106-172',\n",
       "       '46-85', '83-144', '102-190', '67-137', '118-189', '110-175',\n",
       "       '64-111', '81-130', '73-119', '86-139', '63-105', '109-177',\n",
       "       '63-110', '75-124', '34-61', '72-120', '93-149', '85-140',\n",
       "       '77-135', '82-132', '83-137', '115-180', '74-138', '64-112',\n",
       "       '68-129', '52-113', '110-150', '150-160', '158-211', '20-39',\n",
       "       '56-117', '63-99', '68-114', '41-95', '86-144', '80-139', '56-95',\n",
       "       '120-189', '111-176', '84-146', '107-172', '49-85', '61-109',\n",
       "       '88-148', '60-99', '41-72', '96-161', '65-130', '52-81', '139-220',\n",
       "       '50-102', '85-139', '74-122', '99-157', '79-222', '57-118',\n",
       "       '86-141', '94-154', '37-76', '100-160', '55-100', '60-114',\n",
       "       '39-68', '64-107', '31-65', '34-62', '117-231', '79-134', '52-93',\n",
       "       '55-116', '72-123', '74-124', '40-73', '102-164', '89-153',\n",
       "       '61-110', '65-110', '200-275', '68-123', '80-129', '39-71',\n",
       "       '38-85', '121-193', '54-102', '102-163', '76-140', '60-101',\n",
       "       '82-133', '65-125', '91-148', '95-173', '77-124', '80-135',\n",
       "       '85-159', '80-105', '43-81', '29-50', '26-55', '61-118', '60-102',\n",
       "       '112-182', '51-112', '113-223', '72-129', '71-123', '120-145',\n",
       "       '80-120', '80-130', '59-115', '71-136', '81-167', '71-204',\n",
       "       '75-125', '77-136', '74-123', '44-78', '65-148', '59-110',\n",
       "       '85-134', '124-204', '131-207', '110-174', '52-101', '81-133',\n",
       "       '132-211', '74-140', '100-190', '43-80', '17-24', '91-149',\n",
       "       '42-82', '116-185', '59-116', '48-95', '31-72', '105-198',\n",
       "       '98-182', '73-124', '200-250', '21-34', '117-206', '111-183',\n",
       "       '81-159', '83-166', '114-182', '42-76', '114-179', '60-123',\n",
       "       '100-166', '108-173', '48-93', '54-115', '60-127', '90-179',\n",
       "       '138-224', '190-220', '35-62', '18-25', '39-66', '42-86', '69-127',\n",
       "       '40-68', '49-113', '75-140', '66-112', '76-125', '44-86', '15-25',\n",
       "       '53-92', '65-120', '60-103', '53-105', '33-62', '48-90', '34-64',\n",
       "       '66-111', '91-138', '62-114', '71-129', '74-119', '55-97', '15-16',\n",
       "       '61-106', '127-199', '74-126', '33-72', '37-63', '67-119',\n",
       "       '72-117', '78-126', '116-194', '83-133', '45-82', '83-135',\n",
       "       '70-122', '70-132', '54-101', '68-112', '42-74', '95-161',\n",
       "       '76-126', '108-176', '130-208', '37-68', '52-99', '105-173',\n",
       "       '71-134', '39-82', '88-162', '55-99', '67-117', '92-150',\n",
       "       '116-209', '38-82', '85-90', '62-119', '84-136', '52-89', '65-119',\n",
       "       '63-101', '127-202', '31-57', '75-143', '105-194', '45-86',\n",
       "       '95-154', '80-148', '36-62', '50-92', '67-135', '42-80', '68-139',\n",
       "       '34-92', '54-71', '65-124', '109-200', '61-113', '43-86', '74-149',\n",
       "       '113-196', '97-160', '24-39', '102-172', '108-171', '76-142',\n",
       "       '202-306', '49-97', '65-134', '32-59', '87-158', '107-173',\n",
       "       '56-99', '25-28 ', '80-155', '43-98', '45-78', '44-96', '50-110',\n",
       "       '61-119', '100-140', '56-91', '101-158', '125-210', '43-77',\n",
       "       '139-221', '78-147', '37-66', '38-64', '43-82', '90-110', '93-151',\n",
       "       '40-101', '97-180', '81-134', '84-157', '121-203', '52-85',\n",
       "       '81-140', '83-148', '31-55', '102-178', '110-130', '48-85',\n",
       "       '66-123', '92-146', '21-29', '10-17', '150-239', '52-91', '82-129',\n",
       "       '47-101', '49-76', '43-88', '124-199', '97-181', '100-173',\n",
       "       '53-96', '65-96', '75-127', '94-139', '176-289', '92-149',\n",
       "       '118-188', '108-146', '65-106', '55-98', '94-162', '63-120',\n",
       "       '126-228', '80-134', '85-142', '87-140', '76-127', '54-92',\n",
       "       '61-100', '112-179', '63-111', '75-126', '110-184', '76-145',\n",
       "       '70-118', '94-153', '150-180', '42-77', '47-85', '62-112',\n",
       "       '64-108', '89-144', '55-105', '135-211', '57-80', '129-215',\n",
       "       '63-127', '50-89', '71-124', '69-121', '150-238', '77-132',\n",
       "       '59-112', '35-65', '79-147', '119-187', '90-157', '32-62',\n",
       "       '116-208', '102-165', '91-159', '80-133', '39-69', '27-48',\n",
       "       '36-71', '130-206', '99-178', '86-137', '37-100', '58-111',\n",
       "       '72-133', '61-126', '95-160', '33-61', '69-119', '67-127',\n",
       "       '66-117', '50-98', '90-153', '100-135', '42-79', '84-153', '44-73',\n",
       "       '40-87', '72-142', '74-137', '57-109', '136-208', '171-272',\n",
       "       '65-126', '118-228', '113-182', '58-104', '58-108', '81-161',\n",
       "       '115-220', '71-144', '32-57', '79-136', '48-113', '27-47',\n",
       "       '68-125', '39-67', '71-135', '61-123', '87-141', '71-121',\n",
       "       '72-121', '51-88', '101-141', '79-127', '81-132', '120-140',\n",
       "       '65-113', '59-125', '80-142', '62-113'], dtype=object)"
      ]
     },
     "execution_count": 44,
     "metadata": {},
     "output_type": "execute_result"
    }
   ],
   "source": [
    "df['Salary Estimate'].unique()"
   ]
  },
  {
   "cell_type": "code",
   "execution_count": null,
   "metadata": {},
   "outputs": [],
   "source": []
  }
 ],
 "metadata": {
  "kernelspec": {
   "display_name": "base",
   "language": "python",
   "name": "python3"
  },
  "language_info": {
   "codemirror_mode": {
    "name": "ipython",
    "version": 3
   },
   "file_extension": ".py",
   "mimetype": "text/x-python",
   "name": "python",
   "nbconvert_exporter": "python",
   "pygments_lexer": "ipython3",
   "version": "3.10.11"
  },
  "orig_nbformat": 4
 },
 "nbformat": 4,
 "nbformat_minor": 2
}
